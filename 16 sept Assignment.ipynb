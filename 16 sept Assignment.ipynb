{
 "cells": [
  {
   "cell_type": "code",
   "execution_count": 1,
   "id": "c9846b9b",
   "metadata": {},
   "outputs": [
    {
     "name": "stdout",
     "output_type": "stream",
     "text": [
      "enter the first number: 6\n",
      "enter the second number: 4\n",
      "after swapping the values are 4 6\n"
     ]
    }
   ],
   "source": [
    "a=int(input(\"enter the first number: \"))\n",
    "b=int(input(\"enter the second number: \"))\n",
    "a=a+b\n",
    "b=a-b\n",
    "a=a-b\n",
    "print(\"after swapping the values are\",a,b)"
   ]
  },
  {
   "cell_type": "code",
   "execution_count": 2,
   "id": "039b1aa9",
   "metadata": {},
   "outputs": [
    {
     "name": "stdout",
     "output_type": "stream",
     "text": [
      "Enter the string: Swarup\n",
      "the reversed string is:  purawS\n"
     ]
    }
   ],
   "source": [
    "input_string=input(\"Enter the string: \")\n",
    "reversed_string=input_string[::-1]\n",
    "print(\"the reversed string is: \",reversed_string)"
   ]
  },
  {
   "cell_type": "code",
   "execution_count": 3,
   "id": "48f61c4c",
   "metadata": {},
   "outputs": [
    {
     "name": "stdout",
     "output_type": "stream",
     "text": [
      "enter a String: Swarup\n",
      "The length of the string is:  6\n"
     ]
    }
   ],
   "source": [
    "input_string=input(\"enter a String: \")\n",
    "string_length=len(input_string)\n",
    "print(\"The length of the string is: \",string_length)"
   ]
  },
  {
   "cell_type": "code",
   "execution_count": 4,
   "id": "3de8d144",
   "metadata": {},
   "outputs": [
    {
     "name": "stdout",
     "output_type": "stream",
     "text": [
      "enter the temparature in celsius: 4\n",
      "the temparature in celcius:  39.2\n"
     ]
    }
   ],
   "source": [
    "a=int(input(\"enter the temparature in celsius: \"))\n",
    "c=(a*1.8)+32\n",
    "print(\"the temparature in celcius: \",c)   "
   ]
  },
  {
   "cell_type": "code",
   "execution_count": 5,
   "id": "565c40f3",
   "metadata": {},
   "outputs": [
    {
     "name": "stdout",
     "output_type": "stream",
     "text": [
      "enter the height of the rectangle: 4\n",
      "enter the width of the rectangle: 6\n",
      "the area of the rectangle is: 24\n"
     ]
    }
   ],
   "source": [
    "a=int(input(\"enter the height of the rectangle: \"))\n",
    "b=int(input(\"enter the width of the rectangle: \"))\n",
    "c=a*b\n",
    "print(\"the area of the rectangle is:\",c)"
   ]
  },
  {
   "cell_type": "code",
   "execution_count": 6,
   "id": "5e88489f",
   "metadata": {},
   "outputs": [
    {
     "name": "stdout",
     "output_type": "stream",
     "text": [
      "Enter the string: s w aru p\n",
      "the modified string without spaces:  swarup\n"
     ]
    }
   ],
   "source": [
    "input_string=input(\"Enter the string: \")\n",
    "modified_string=input_string.replace(\" \",\"\")\n",
    "print(\"the modified string without spaces: \",modified_string)"
   ]
  },
  {
   "cell_type": "code",
   "execution_count": 1,
   "id": "e9a7d758",
   "metadata": {},
   "outputs": [
    {
     "name": "stdout",
     "output_type": "stream",
     "text": [
      "Enter a sentence: He is a good boy\n",
      "Number of vowels in the sentence:  6\n"
     ]
    }
   ],
   "source": [
    "sentence = input(\"Enter a sentence: \")\n",
    "count = 0\n",
    "vowels = ['a', 'e', 'i', 'o', 'u']\n",
    "sentence = sentence.lower()\n",
    "\n",
    "for char in sentence:\n",
    "    if char in vowels:\n",
    "        count += 1\n",
    "\n",
    "print(\"Number of vowels in the sentence: \",count)"
   ]
  },
  {
   "cell_type": "code",
   "execution_count": null,
   "id": "fc246af5",
   "metadata": {},
   "outputs": [],
   "source": [
    "string = input(\"Enter a string: \")\n",
    "cleaned_string = string.replace(\" \", \"\").lower()\n",
    "reversed_string = cleaned_string[::-1]\n",
    "\n",
    "if cleaned_string == reversed_string:\n",
    "    print(string, \" : is a Palindrome string\")\n",
    "else:\n",
    "    print(string, \" : is not a Palindrome string\")"
   ]
  },
  {
   "cell_type": "code",
   "execution_count": null,
   "id": "05e84216",
   "metadata": {},
   "outputs": [],
   "source": []
  }
 ],
 "metadata": {
  "kernelspec": {
   "display_name": "Python 3 (ipykernel)",
   "language": "python",
   "name": "python3"
  },
  "language_info": {
   "codemirror_mode": {
    "name": "ipython",
    "version": 3
   },
   "file_extension": ".py",
   "mimetype": "text/x-python",
   "name": "python",
   "nbconvert_exporter": "python",
   "pygments_lexer": "ipython3",
   "version": "3.11.4"
  }
 },
 "nbformat": 4,
 "nbformat_minor": 5
}
